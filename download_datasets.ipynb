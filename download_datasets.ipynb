{
 "cells": [
  {
   "cell_type": "code",
   "id": "initial_id",
   "metadata": {
    "collapsed": true,
    "ExecuteTime": {
     "end_time": "2024-11-01T10:53:25.802783Z",
     "start_time": "2024-11-01T10:53:15.951331Z"
    }
   },
   "source": [
    "import pandas\n",
    "from torch_geometric.datasets import MovieLens1M"
   ],
   "outputs": [],
   "execution_count": 1
  },
  {
   "metadata": {
    "ExecuteTime": {
     "end_time": "2024-11-01T10:53:29.276585Z",
     "start_time": "2024-11-01T10:53:25.802783Z"
    }
   },
   "cell_type": "code",
   "source": "dataset = MovieLens1M(root=\"./asset\")",
   "id": "5ecb4fe618752944",
   "outputs": [
    {
     "name": "stderr",
     "output_type": "stream",
     "text": [
      "Downloading https://files.grouplens.org/datasets/movielens/ml-1m.zip\n",
      "Extracting asset\\ml-1m.zip\n"
     ]
    }
   ],
   "execution_count": 2
  },
  {
   "metadata": {
    "ExecuteTime": {
     "end_time": "2024-11-01T10:56:05.040415Z",
     "start_time": "2024-11-01T10:55:58.293897Z"
    }
   },
   "cell_type": "code",
   "source": "db = pandas.read_csv(\"asset/raw/ratings.dat\", sep=\"::\", names=['user_id:token', 'item_id:token', 'rating:float', 'timestamp:float'])",
   "id": "7645104b053b02b",
   "outputs": [
    {
     "name": "stderr",
     "output_type": "stream",
     "text": [
      "C:\\Users\\s8347434\\AppData\\Local\\Temp\\4\\ipykernel_19124\\754275008.py:1: ParserWarning: Falling back to the 'python' engine because the 'c' engine does not support regex separators (separators > 1 char and different from '\\s+' are interpreted as regex); you can avoid this warning by specifying engine='python'.\n",
      "  db = pandas.read_csv(\"asset/raw/ratings.dat\", sep=\"::\", names=['user_id:token', 'item_id:token', 'rating:float', 'timestamp:float'])\n"
     ]
    }
   ],
   "execution_count": 3
  },
  {
   "metadata": {
    "ExecuteTime": {
     "end_time": "2024-11-01T10:58:06.934282Z",
     "start_time": "2024-11-01T10:58:06.476783Z"
    }
   },
   "cell_type": "code",
   "source": [
    "db = db.sort_values(by=['user_id:token', 'timestamp:float'], ignore_index=True)\n",
    "print(db.head())"
   ],
   "id": "a2c5a0fe2b4f7d47",
   "outputs": [
    {
     "name": "stdout",
     "output_type": "stream",
     "text": [
      "   user_id:token  item_id:token  rating:float  timestamp:float\n",
      "0              1           3186             4        978300019\n",
      "1              1           1270             5        978300055\n",
      "2              1           1721             4        978300055\n",
      "3              1           1022             5        978300055\n",
      "4              1           2340             3        978300103\n"
     ]
    }
   ],
   "execution_count": 8
  },
  {
   "metadata": {
    "ExecuteTime": {
     "end_time": "2024-11-01T11:10:51.011377Z",
     "start_time": "2024-11-01T11:10:50.963581Z"
    }
   },
   "cell_type": "code",
   "source": [
    "COL_NUMS = 10000\n",
    "db.iloc[:COL_NUMS, :].to_csv(\"asset/processed/ml-1m.inter\", index=False, header=True, sep=\"\\t\")\n",
    "db.iloc[:COL_NUMS, :].to_csv(\"asset/data/ml-1m/ml-1m.inter\", index=False, header=True, sep=\"\\t\")"
   ],
   "id": "32b8497ac721be60",
   "outputs": [],
   "execution_count": 13
  }
 ],
 "metadata": {
  "kernelspec": {
   "display_name": "Python 3",
   "language": "python",
   "name": "python3"
  },
  "language_info": {
   "codemirror_mode": {
    "name": "ipython",
    "version": 2
   },
   "file_extension": ".py",
   "mimetype": "text/x-python",
   "name": "python",
   "nbconvert_exporter": "python",
   "pygments_lexer": "ipython2",
   "version": "2.7.6"
  }
 },
 "nbformat": 4,
 "nbformat_minor": 5
}
