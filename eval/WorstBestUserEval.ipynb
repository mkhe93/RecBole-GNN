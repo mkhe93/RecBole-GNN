{
 "cells": [
  {
   "cell_type": "code",
   "id": "initial_id",
   "metadata": {
    "collapsed": true,
    "ExecuteTime": {
     "end_time": "2025-01-12T17:54:34.184041Z",
     "start_time": "2025-01-12T17:54:34.176979Z"
    }
   },
   "source": [
    "import os\n",
    "import sys\n",
    "from pathlib import Path\n",
    "\n",
    "# setting proper working directory\n",
    "PROJECT_DIRECTORY = Path(os.path.abspath('')).resolve().parents[0]\n",
    "sys.path.extend([str(PROJECT_DIRECTORY)])\n",
    "\n",
    "print(f'Python {sys.version} on {sys.platform}')\n",
    "print('Project directory: ', PROJECT_DIRECTORY)"
   ],
   "outputs": [
    {
     "name": "stdout",
     "output_type": "stream",
     "text": [
      "Python 3.12.5 (tags/v3.12.5:ff3bc82, Aug  6 2024, 20:45:27) [MSC v.1940 64 bit (AMD64)] on win32\n",
      "Project directory:  C:\\Users\\s8347434\\Documents\\RecBole-GNN\n"
     ]
    }
   ],
   "execution_count": 117
  },
  {
   "metadata": {
    "ExecuteTime": {
     "end_time": "2025-01-12T17:54:34.719481Z",
     "start_time": "2025-01-12T17:54:34.709944Z"
    }
   },
   "cell_type": "code",
   "source": [
    "# Define custom colors\n",
    "tu_dd_blue = (0 / 255, 48 / 255, 93 / 255)\n",
    "bu_green1 = (138 / 255, 203 / 255, 193 / 255)\n",
    "bu_green2 = (0 / 255, 172 / 255, 169 / 255)\n",
    "bu_green3 = (0 / 255, 131 / 255, 141 / 255)\n",
    "ing_blue1 = (132 / 255, 207 / 255, 237 / 255)\n",
    "ing_blue2 = (0 / 255, 161 / 255, 217 / 255)\n",
    "ing_blue3 = (0 / 255, 119 / 255, 174 / 255)\n",
    "ing_blue4 = (0 / 255, 105 / 255, 180 / 255)"
   ],
   "id": "6ed28e4a40efc570",
   "outputs": [],
   "execution_count": 118
  },
  {
   "metadata": {
    "ExecuteTime": {
     "end_time": "2025-01-12T17:54:36.182187Z",
     "start_time": "2025-01-12T17:54:36.175879Z"
    }
   },
   "cell_type": "code",
   "source": [
    "import pandas as pd\n",
    "import numpy as np\n",
    "import ast\n",
    "import matplotlib.pyplot as plt\n",
    "import seaborn as sns\n",
    "from tqdm import tqdm"
   ],
   "id": "f3f382f44a6e7d2a",
   "outputs": [],
   "execution_count": 119
  },
  {
   "metadata": {
    "ExecuteTime": {
     "end_time": "2025-01-12T18:13:32.951155Z",
     "start_time": "2025-01-12T18:13:32.555339Z"
    }
   },
   "cell_type": "code",
   "source": [
    "user_topologies_df = pd.read_csv(\"../eval/log/Dataset/user_topological_characteristics2.csv\", sep=\"\\t\")\n",
    "new_column_name = {'best_users_to_community': 'best_user_to_community'}\n",
    "user_topologies_df = user_topologies_df.rename(columns=new_column_name)\n",
    "user_topologies_df = user_topologies_df.reset_index(drop=True)"
   ],
   "id": "111c75530f577df0",
   "outputs": [],
   "execution_count": 203
  },
  {
   "metadata": {
    "ExecuteTime": {
     "end_time": "2025-01-12T18:13:33.671339Z",
     "start_time": "2025-01-12T18:13:33.630100Z"
    }
   },
   "cell_type": "code",
   "source": [
    "als_df = pd.read_csv(\"log/Benchmark/old/ALS-Benchmark-RO.csv\", sep=\"\\t\")\n",
    "asym_user_df = pd.read_csv(\"log/Benchmark/RO/AsymKNNUser-Benchmark-RO.csv\", sep=\"\\t\")"
   ],
   "id": "66e4f7f0608ec807",
   "outputs": [],
   "execution_count": 204
  },
  {
   "metadata": {
    "ExecuteTime": {
     "end_time": "2025-01-12T18:13:34.057942Z",
     "start_time": "2025-01-12T18:13:34.044369Z"
    }
   },
   "cell_type": "code",
   "source": [
    "overall_df = pd.concat([als_df, asym_user_df], ignore_index=True)\n",
    "overall_df['dataset'] = overall_df['dataset'].str.extract(r'-(\\d+)$').astype(int)"
   ],
   "id": "69b2dff9ea2f55cf",
   "outputs": [],
   "execution_count": 205
  },
  {
   "metadata": {
    "ExecuteTime": {
     "end_time": "2025-01-12T18:13:34.493802Z",
     "start_time": "2025-01-12T18:13:34.487479Z"
    }
   },
   "cell_type": "code",
   "source": [
    "# Function to process columns\n",
    "def process_user_columns(df):\n",
    "    for col in df.columns:\n",
    "        if col.startswith('best_user_') or col.startswith('worst_user_') or col.startswith('clustering_coefficients'):\n",
    "            # Apply transformation for each row in the selected columns\n",
    "            df[col] = df[col].apply(ast.literal_eval)            \n",
    "    return df"
   ],
   "id": "f557747b31ea363d",
   "outputs": [],
   "execution_count": 206
  },
  {
   "metadata": {
    "ExecuteTime": {
     "end_time": "2025-01-12T18:13:36.314213Z",
     "start_time": "2025-01-12T18:13:35.139979Z"
    }
   },
   "cell_type": "code",
   "source": [
    "overall_df = process_user_columns(overall_df)\n",
    "user_topologies_df = process_user_columns(user_topologies_df)"
   ],
   "id": "46cbdfdbad378875",
   "outputs": [],
   "execution_count": 207
  },
  {
   "metadata": {
    "ExecuteTime": {
     "end_time": "2025-01-12T18:13:36.340861Z",
     "start_time": "2025-01-12T18:13:36.327310Z"
    }
   },
   "cell_type": "code",
   "source": [
    "print(overall_df.head(2)['best_user_precision@[10]'])\n",
    "print(user_topologies_df.head(2)['best_user_to_community'])"
   ],
   "id": "6e9a49f215d4af36",
   "outputs": [
    {
     "name": "stdout",
     "output_type": "stream",
     "text": [
      "0    [{'364': '1.0'}, {'16': '1.0'}, {'929': '1.0'}...\n",
      "1    [{'830': '1.0'}, {'81': '1.0'}, {'4': '1.0'}, ...\n",
      "Name: best_user_precision@[10], dtype: object\n",
      "0    {1: 1, 520: 2, 16: 2, 530: 2, 24: 2, 536: 2, 5...\n",
      "1    {1: 1, 4: 1, 523: 2, 1042: 2, 530: 5, 539: 2, ...\n",
      "Name: best_user_to_community, dtype: object\n"
     ]
    }
   ],
   "execution_count": 208
  },
  {
   "metadata": {
    "ExecuteTime": {
     "end_time": "2025-01-12T18:20:02.193878Z",
     "start_time": "2025-01-12T18:20:02.174412Z"
    }
   },
   "cell_type": "code",
   "source": [
    "def match_topological_chars(data, topological_data):    \n",
    "    df = data.copy()    \n",
    "\n",
    "    # Initialize the new columns with empty or None values\n",
    "    df['best_user_to_community'] = pd.NA\n",
    "    df['worst_user_to_community'] = pd.NA\n",
    "    df['best_user_communities'] = pd.NA\n",
    "    df['worst_user_communities'] = pd.NA\n",
    "    df['best_user_cluster_coefficients'] = pd.NA\n",
    "    df['worst_user_cluster_coefficients'] = pd.NA\n",
    "    df['degree_assort_best_users'] = pd.NA\n",
    "    df['degree_assort_worst_users'] = pd.NA\n",
    "    df['average_clustering_coef_dot_best_users'] = pd.NA\n",
    "    df['average_clustering_coef_dot_worst_users'] = pd.NA\n",
    "\n",
    "    for i in tqdm(topological_data['dataset'].unique(), total=topological_data['dataset'].nunique(), unit='datasets'):   \n",
    "        for model in df['Model'].unique():\n",
    "            \n",
    "            # Filter the rows for the specific model and dataset\n",
    "            matching_rows = df[(df['Model'] == model) & (df['dataset'] == i)]\n",
    "            \n",
    "            if matching_rows.empty:\n",
    "                continue  # Skip if no matching rows are found for this model and dataset\n",
    "\n",
    "            # Extract unique user IDs from best_user_ and worst_user_ columns\n",
    "            best_user_ids = []\n",
    "            worst_user_ids = []\n",
    "            for col in matching_rows.columns:\n",
    "                if col.startswith('best_user_') and col.endswith('[10]'):\n",
    "                    for entry in matching_rows[col].values[0]:  # Assuming each entry is a list of dictionaries\n",
    "                        best_user_ids.append(int(list(entry.keys())[0]))  # Add user ID to the set\n",
    "                if col.startswith('worst_user_') and col.endswith('[10]'):\n",
    "                    for entry in matching_rows[col].values[0]:  # Assuming each entry is a list of dictionaries\n",
    "                        worst_user_ids.append(int(list(entry.keys())[0]))  # Add user ID to the set\n",
    "\n",
    "            # Retrieve the topological data mapping\n",
    "            best_user_to_community_map = topological_data[topological_data['dataset'] == i]['best_user_to_community'].values[0]            \n",
    "            best_user_to_community_dict = {userId: best_user_to_community_map[userId] for userId in best_user_ids}\n",
    "            best_user_to_community_list = [best_user_to_community_map[userId] for userId in best_user_ids]\n",
    "            \n",
    "            best_user_cluster_coefficients_map = topological_data[topological_data['dataset'] == i]['clustering_coefficients_best_users'].values[0]\n",
    "            best_user_cluster_coefficients = [best_user_cluster_coefficients_map[userId] for userId in best_user_ids]\n",
    "            \n",
    "            worst_user_to_community_map = topological_data[topological_data['dataset'] == i]['worst_user_to_community'].values[0]            \n",
    "            worst_user_to_community_dict = {userId: worst_user_to_community_map[userId] for userId in worst_user_ids}\n",
    "            worst_user_to_community_list = [worst_user_to_community_map[userId] for userId in worst_user_ids]\n",
    "            \n",
    "            worst_user_cluster_coefficients_map = topological_data[topological_data['dataset'] == i]['clustering_coefficients_worst_users'].values[0]\n",
    "            worst_user_cluster_coefficients = [worst_user_cluster_coefficients_map[userId] for userId in worst_user_ids]\n",
    "            \n",
    "            # Now we will assign the dictionary to each row individually\n",
    "            for index, row in matching_rows.iterrows():\n",
    "                # Set the dictionary in the specific row for 'best_user_to_community' and 'worst_user_to_community'\n",
    "                df.at[index, 'best_user_to_community'] = best_user_to_community_dict\n",
    "                df.at[index, 'worst_user_to_community'] = worst_user_to_community_dict\n",
    "                df.at[index, 'best_user_communities'] = best_user_to_community_list\n",
    "                df.at[index, 'worst_user_communities'] = worst_user_to_community_list\n",
    "                df.at[index, 'best_user_cluster_coefficients'] = best_user_cluster_coefficients\n",
    "                df.at[index, 'worst_user_cluster_coefficients'] = worst_user_cluster_coefficients\n",
    "                df.at[index, 'degree_assort_best_users'] = topological_data[topological_data['dataset'] == i]['degree_assort_best_users'].values[0]\n",
    "                df.at[index, 'degree_assort_worst_users'] = topological_data[topological_data['dataset'] == i]['degree_assort_worst_users'].values[0]\n",
    "                df.at[index, 'average_clustering_coef_dot_best_users'] = topological_data[topological_data['dataset'] == i]['average_clustering_coef_dot_best_users'].values[0]\n",
    "                df.at[index, 'average_clustering_coef_dot_worst_users'] = topological_data[topological_data['dataset'] == i]['average_clustering_coef_dot_worst_users'].values[0]                \n",
    "                \n",
    "    return df"
   ],
   "id": "d941d69130ce6de2",
   "outputs": [],
   "execution_count": 233
  },
  {
   "metadata": {
    "ExecuteTime": {
     "end_time": "2025-01-12T18:20:05.006573Z",
     "start_time": "2025-01-12T18:20:02.657690Z"
    }
   },
   "cell_type": "code",
   "source": "matched_df = match_topological_chars(overall_df, user_topologies_df)",
   "id": "631ab8d133ab7794",
   "outputs": [
    {
     "name": "stderr",
     "output_type": "stream",
     "text": [
      "100%|██████████| 175/175 [00:02<00:00, 74.86datasets/s]\n"
     ]
    }
   ],
   "execution_count": 234
  },
  {
   "metadata": {
    "ExecuteTime": {
     "end_time": "2025-01-12T18:20:20.510369Z",
     "start_time": "2025-01-12T18:20:18.541399Z"
    }
   },
   "cell_type": "code",
   "source": [
    "# NOTE: takes approx. 2-3 min\n",
    "file_path = \"log/Dataset/user_classical_characteristics.csv\"\n",
    "\n",
    "popularity_df = pd.read_csv(file_path, sep='\\t')\n",
    "popularity_df = process_user_columns(popularity_df)\n",
    "\n",
    "merged_df = pd.merge(matched_df, popularity_df, on=['Model','dataset'], how='left')  # you can change how to 'left', 'right', or 'outer'\n",
    "merged_df = merged_df[merged_df['dataset'] != 177]"
   ],
   "id": "135ee28fec2e1668",
   "outputs": [],
   "execution_count": 235
  },
  {
   "metadata": {
    "ExecuteTime": {
     "end_time": "2025-01-12T18:20:22.480711Z",
     "start_time": "2025-01-12T18:20:22.473260Z"
    }
   },
   "cell_type": "code",
   "source": "merged_df = merged_df.dropna().reset_index(drop=True)",
   "id": "4767bea272bbc37e",
   "outputs": [],
   "execution_count": 236
  },
  {
   "metadata": {
    "ExecuteTime": {
     "end_time": "2025-01-12T18:22:59.075152Z",
     "start_time": "2025-01-12T18:22:59.061619Z"
    }
   },
   "cell_type": "code",
   "source": [
    "def plot_cluster_centroids(data, model, characteristic, num_datasets):    \n",
    "   \n",
    "    # Filter the data for the selected model\n",
    "    df = data[data['Model'] == model].copy()\n",
    "    \n",
    "    best_cluster_centroids = []\n",
    "    worst_cluster_centroids = []\n",
    "    \n",
    "    # Extract cluster centroids\n",
    "    for index, row in tqdm(df.iloc[:num_datasets].iterrows(), total=num_datasets, unit='rows'):\n",
    "        if characteristic == 'communities':\n",
    "            ylabel = 'Average Community Value'\n",
    "            best_cluster_centroids.append(np.mean(row['best_user_communities']))\n",
    "            worst_cluster_centroids.append(np.mean(row['worst_user_communities']))\n",
    "        elif characteristic == 'coefficients':\n",
    "            ylabel = 'AvgClustC'\n",
    "            best_cluster_centroids.append(np.mean(row['best_user_cluster_coefficients']))\n",
    "            worst_cluster_centroids.append(np.mean(row['worst_user_cluster_coefficients']))\n",
    "        elif characteristic == 'degree_assort':\n",
    "            ylabel = 'Assort'\n",
    "            best_cluster_centroids.append(row['degree_assort_best_users'])\n",
    "            worst_cluster_centroids.append(row['degree_assort_worst_users'])\n",
    "        elif characteristic == 'average_coefficients':\n",
    "            ylabel = 'AvgClustC'\n",
    "            best_cluster_centroids.append(row['average_clustering_coef_dot_best_users'])\n",
    "            worst_cluster_centroids.append(row['average_clustering_coef_dot_worst_users'])\n",
    "\n",
    "    # Set global font size and padding\n",
    "    plt.rc('font', size=12)            \n",
    "    plt.rc('axes', titlesize=30, labelsize=30)\n",
    "    plt.rc('axes', labelpad=10) \n",
    "    plt.rc('xtick', labelsize=26)\n",
    "    plt.rc('ytick', labelsize=26) \n",
    "    \n",
    "    # Create a DataFrame for centroids\n",
    "    df_centroids = pd.DataFrame({\n",
    "        'Centroid': np.concatenate([best_cluster_centroids, worst_cluster_centroids]),\n",
    "        'Group': ['Best Users'] * len(best_cluster_centroids) + ['Worst Users'] * len(worst_cluster_centroids)\n",
    "    })\n",
    "    \n",
    "    custom_palette = [tu_dd_blue, bu_green1]\n",
    "    \n",
    "    # Plot centroids as a boxplot\n",
    "    plt.figure(figsize=(8, 6))\n",
    "    sns.boxplot(data=df_centroids, x='Group', y='Centroid', palette=custom_palette, hue='Group')\n",
    "    sns.stripplot(data=df_centroids, x='Group', y='Centroid', color=bu_green3, alpha=0.6, jitter=True)\n",
    "    \n",
    "    # Add labels and title\n",
    "    #plt.xlabel(\"Group\")\n",
    "    plt.ylabel(ylabel)\n",
    "    plt.show()"
   ],
   "id": "b0c3b6b8d2ddfd88",
   "outputs": [],
   "execution_count": 242
  },
  {
   "metadata": {
    "ExecuteTime": {
     "end_time": "2025-01-12T18:23:00.624295Z",
     "start_time": "2025-01-12T18:23:00.265580Z"
    }
   },
   "cell_type": "code",
   "source": [
    "characteristics = ['communities', 'coefficients', 'degree_assort', 'average_coefficients']\n",
    "model = \"ALS\"\n",
    "plot_cluster_centroids(matched_df, model=model, characteristic=characteristics[1], num_datasets=matched_df[matched_df['Model']==model].shape[0])"
   ],
   "id": "ef2d220a640f5ea6",
   "outputs": [
    {
     "name": "stderr",
     "output_type": "stream",
     "text": [
      "100%|██████████| 176/176 [00:00<00:00, 5868.44rows/s]\n"
     ]
    },
    {
     "data": {
      "text/plain": [
       "<Figure size 800x600 with 1 Axes>"
      ],
      "image/png": "[encoded data removed]"
     },
     "metadata": {},
     "output_type": "display_data"
    }
   ],
   "execution_count": 243
  },
  {
   "metadata": {},
   "cell_type": "code",
   "outputs": [],
   "execution_count": null,
   "source": "",
   "id": "9801d2d8dba36234"
  }
 ],
 "metadata": {
  "kernelspec": {
   "display_name": "Python 3",
   "language": "python",
   "name": "python3"
  },
  "language_info": {
   "codemirror_mode": {
    "name": "ipython",
    "version": 2
   },
   "file_extension": ".py",
   "mimetype": "text/x-python",
   "name": "python",
   "nbconvert_exporter": "python",
   "pygments_lexer": "ipython2",
   "version": "2.7.6"
  }
 },
 "nbformat": 4,
 "nbformat_minor": 5
}
